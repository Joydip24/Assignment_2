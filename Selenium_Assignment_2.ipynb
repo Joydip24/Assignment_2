{
 "cells": [
  {
   "cell_type": "code",
   "execution_count": 55,
   "metadata": {},
   "outputs": [],
   "source": [
    "# installing Selenium\n",
    "#!pip install selenium"
   ]
  },
  {
   "cell_type": "code",
   "execution_count": 56,
   "metadata": {},
   "outputs": [],
   "source": [
    "# importing important Libraries\n",
    "import pandas as pd\n",
    "import numpy as np\n",
    "import selenium\n",
    "from selenium import webdriver\n",
    "import warnings\n",
    "warnings.filterwarnings('ignore')"
   ]
  },
  {
   "cell_type": "markdown",
   "metadata": {},
   "source": [
    "# Q1: Write a python program to scrape data for “Data Analyst” Job position in “Bangalore” location. You have to scrape the job-title, job-location, company_name, experience_required. You have to scrape first 10 jobs data"
   ]
  },
  {
   "cell_type": "code",
   "execution_count": 57,
   "metadata": {},
   "outputs": [],
   "source": [
    "# Connecting to web driver\n",
    "driver = webdriver.Chrome(r\"C:\\Users\\user\\Desktop\\PYTHON\\chromedriver_win32\\chromedriver.exe\")"
   ]
  },
  {
   "cell_type": "code",
   "execution_count": 58,
   "metadata": {},
   "outputs": [],
   "source": [
    "url=\"https://www.naukri.com/data-analyst-jobs-in-bangalore?k=data%20analyst&l=bangalore\""
   ]
  },
  {
   "cell_type": "code",
   "execution_count": 59,
   "metadata": {},
   "outputs": [],
   "source": [
    "# We'll open webpage with our web driver\n",
    "driver.get(url)"
   ]
  },
  {
   "cell_type": "code",
   "execution_count": 60,
   "metadata": {},
   "outputs": [],
   "source": [
    "# creating 4 empty list which will help to store required scrapped data in these list.\n",
    "\n",
    "job_title=[]\n",
    "job_location=[]\n",
    "company_names=[]\n",
    "experience_required=[]"
   ]
  },
  {
   "cell_type": "code",
   "execution_count": 61,
   "metadata": {},
   "outputs": [
    {
     "data": {
      "text/plain": [
       "[<selenium.webdriver.remote.webelement.WebElement (session=\"6fc3b033cdb75ce4c9c16b871d3b49c7\", element=\"ca44f69b-91ca-46c7-b391-b54ed97578c6\")>,\n",
       " <selenium.webdriver.remote.webelement.WebElement (session=\"6fc3b033cdb75ce4c9c16b871d3b49c7\", element=\"c52d7992-f527-4169-9999-8c0d6ed17bf7\")>,\n",
       " <selenium.webdriver.remote.webelement.WebElement (session=\"6fc3b033cdb75ce4c9c16b871d3b49c7\", element=\"189485b9-dd28-432c-b240-3823b6af49f2\")>,\n",
       " <selenium.webdriver.remote.webelement.WebElement (session=\"6fc3b033cdb75ce4c9c16b871d3b49c7\", element=\"6e135b40-5e5a-414e-b7b7-137d843261a6\")>,\n",
       " <selenium.webdriver.remote.webelement.WebElement (session=\"6fc3b033cdb75ce4c9c16b871d3b49c7\", element=\"25fa76d3-0bac-4e10-86d4-f2603fab535b\")>,\n",
       " <selenium.webdriver.remote.webelement.WebElement (session=\"6fc3b033cdb75ce4c9c16b871d3b49c7\", element=\"4b145649-4e1c-4dda-9306-f43d7f6ac13b\")>,\n",
       " <selenium.webdriver.remote.webelement.WebElement (session=\"6fc3b033cdb75ce4c9c16b871d3b49c7\", element=\"a5007362-386c-4b71-b07c-09b5f654d117\")>,\n",
       " <selenium.webdriver.remote.webelement.WebElement (session=\"6fc3b033cdb75ce4c9c16b871d3b49c7\", element=\"ede38077-fbd6-4829-bb7a-f28d49f7d83c\")>,\n",
       " <selenium.webdriver.remote.webelement.WebElement (session=\"6fc3b033cdb75ce4c9c16b871d3b49c7\", element=\"ba11f5bf-0262-4c27-928c-e8d5dd4627f4\")>,\n",
       " <selenium.webdriver.remote.webelement.WebElement (session=\"6fc3b033cdb75ce4c9c16b871d3b49c7\", element=\"fe38558c-63d4-485d-8239-518ae36b49f2\")>]"
      ]
     },
     "execution_count": 61,
     "metadata": {},
     "output_type": "execute_result"
    }
   ],
   "source": [
    "# 1st we'll extract all the tags having the job_title\n",
    "titles_tags=driver.find_elements_by_xpath(\"//a[@class='title fw500 ellipsis']\")\n",
    "titles_tags[0:10]"
   ]
  },
  {
   "cell_type": "code",
   "execution_count": 62,
   "metadata": {},
   "outputs": [
    {
     "data": {
      "text/plain": [
       "['Immediate opening For Data Scientist/Data Analyst',\n",
       " 'SAS AML Data Analyst / Trainee & Data Science, Python Trainee',\n",
       " 'Hiring Data Analysts',\n",
       " 'Hiring Data Analysts',\n",
       " 'Data Analyst',\n",
       " 'Business Data Analyst',\n",
       " 'Data Analyst ( Predictive Modelling)',\n",
       " 'Data Scientist / Data Analyst',\n",
       " 'Data Analyst',\n",
       " 'NiFi Data Analyst']"
      ]
     },
     "execution_count": 62,
     "metadata": {},
     "output_type": "execute_result"
    }
   ],
   "source": [
    "# 10 text of the job titles are inside the tags which are extracted above\n",
    "# now we'll run a loop to iterate over the tags to extract the text inside the empty list\n",
    "\n",
    "for t in titles_tags:\n",
    "    title=t.text\n",
    "    job_title.append(title)\n",
    "job_title[0:10]"
   ]
  },
  {
   "cell_type": "code",
   "execution_count": 63,
   "metadata": {},
   "outputs": [
    {
     "data": {
      "text/plain": [
       "[<selenium.webdriver.remote.webelement.WebElement (session=\"6fc3b033cdb75ce4c9c16b871d3b49c7\", element=\"1a25cb29-7053-485b-bb69-a74ccc61d03b\")>,\n",
       " <selenium.webdriver.remote.webelement.WebElement (session=\"6fc3b033cdb75ce4c9c16b871d3b49c7\", element=\"c279d05f-57da-4886-aaf7-24d6ea9a892c\")>,\n",
       " <selenium.webdriver.remote.webelement.WebElement (session=\"6fc3b033cdb75ce4c9c16b871d3b49c7\", element=\"ac5a82f6-4a99-4f9a-95b2-80471d14be17\")>,\n",
       " <selenium.webdriver.remote.webelement.WebElement (session=\"6fc3b033cdb75ce4c9c16b871d3b49c7\", element=\"8167bb6a-b530-4718-b6b3-f74a545f8b90\")>,\n",
       " <selenium.webdriver.remote.webelement.WebElement (session=\"6fc3b033cdb75ce4c9c16b871d3b49c7\", element=\"377d872a-cdb5-4f33-aba0-1b168440d6c4\")>,\n",
       " <selenium.webdriver.remote.webelement.WebElement (session=\"6fc3b033cdb75ce4c9c16b871d3b49c7\", element=\"8246ea6e-27d9-4779-a12a-0862eb9db9c0\")>,\n",
       " <selenium.webdriver.remote.webelement.WebElement (session=\"6fc3b033cdb75ce4c9c16b871d3b49c7\", element=\"d30e5e4d-90e4-488b-9a30-e3abe505250d\")>,\n",
       " <selenium.webdriver.remote.webelement.WebElement (session=\"6fc3b033cdb75ce4c9c16b871d3b49c7\", element=\"d588edd2-93b7-4f8c-8401-748749a4fbfa\")>,\n",
       " <selenium.webdriver.remote.webelement.WebElement (session=\"6fc3b033cdb75ce4c9c16b871d3b49c7\", element=\"ef7f3fdd-98cc-4bdb-a093-4c909ef47d38\")>,\n",
       " <selenium.webdriver.remote.webelement.WebElement (session=\"6fc3b033cdb75ce4c9c16b871d3b49c7\", element=\"a823b295-e369-4a5f-b1d6-6cef34c9ff7a\")>]"
      ]
     },
     "execution_count": 63,
     "metadata": {},
     "output_type": "execute_result"
    }
   ],
   "source": [
    "# 1st we'll extract all the tags having the job_location\n",
    "location_tags=driver.find_elements_by_xpath(\"//li[@class='fleft grey-text br2 placeHolderLi location']/span[1]\")\n",
    "location_tags[0:10]"
   ]
  },
  {
   "cell_type": "code",
   "execution_count": 64,
   "metadata": {},
   "outputs": [
    {
     "data": {
      "text/plain": [
       "['Chennai, Pune, Bengaluru, Hyderabad',\n",
       " 'Bengaluru(Whitefield)',\n",
       " 'Bengaluru',\n",
       " 'Bengaluru',\n",
       " 'Bengaluru',\n",
       " 'Bengaluru',\n",
       " 'Bengaluru',\n",
       " 'Bengaluru',\n",
       " 'Pune, Delhi, Mumbai, Bengaluru, Hyderabad',\n",
       " 'Bengaluru']"
      ]
     },
     "execution_count": 64,
     "metadata": {},
     "output_type": "execute_result"
    }
   ],
   "source": [
    "# 10 text of the job location are inside the tags which are extracted above\n",
    "# now we'll run a loop to iterate over the tags to extract the text inside the empty list\n",
    "\n",
    "for t in location_tags:\n",
    "    location=t.text\n",
    "    job_location.append(location)\n",
    "job_location[0:10]"
   ]
  },
  {
   "cell_type": "code",
   "execution_count": 65,
   "metadata": {},
   "outputs": [
    {
     "data": {
      "text/plain": [
       "[<selenium.webdriver.remote.webelement.WebElement (session=\"6fc3b033cdb75ce4c9c16b871d3b49c7\", element=\"1127254e-f2a2-4543-8871-99b92b6e84a6\")>,\n",
       " <selenium.webdriver.remote.webelement.WebElement (session=\"6fc3b033cdb75ce4c9c16b871d3b49c7\", element=\"c0dcae5e-ff88-4e0f-bc3f-4b21191095b0\")>,\n",
       " <selenium.webdriver.remote.webelement.WebElement (session=\"6fc3b033cdb75ce4c9c16b871d3b49c7\", element=\"3e6a0d4e-e095-4c70-8f92-17755afa1075\")>,\n",
       " <selenium.webdriver.remote.webelement.WebElement (session=\"6fc3b033cdb75ce4c9c16b871d3b49c7\", element=\"1367a668-8963-482b-aefb-dfe07c134c63\")>,\n",
       " <selenium.webdriver.remote.webelement.WebElement (session=\"6fc3b033cdb75ce4c9c16b871d3b49c7\", element=\"740bdabe-97e3-40ae-8b91-eaf7c2db723b\")>,\n",
       " <selenium.webdriver.remote.webelement.WebElement (session=\"6fc3b033cdb75ce4c9c16b871d3b49c7\", element=\"e0929799-c298-4bb3-891e-7dbc61023899\")>,\n",
       " <selenium.webdriver.remote.webelement.WebElement (session=\"6fc3b033cdb75ce4c9c16b871d3b49c7\", element=\"cb4922e4-295f-4ef9-acb4-746b7d269de1\")>,\n",
       " <selenium.webdriver.remote.webelement.WebElement (session=\"6fc3b033cdb75ce4c9c16b871d3b49c7\", element=\"53e792f9-af77-48cf-9c73-5e47c8b145c4\")>,\n",
       " <selenium.webdriver.remote.webelement.WebElement (session=\"6fc3b033cdb75ce4c9c16b871d3b49c7\", element=\"1558629e-c4ad-4366-bc78-c380481abab6\")>,\n",
       " <selenium.webdriver.remote.webelement.WebElement (session=\"6fc3b033cdb75ce4c9c16b871d3b49c7\", element=\"810f50c8-a128-4109-b2e8-e052a2ea09be\")>]"
      ]
     },
     "execution_count": 65,
     "metadata": {},
     "output_type": "execute_result"
    }
   ],
   "source": [
    "# 1st we'll extract all the tags having the company_name\n",
    "companies_tags=driver.find_elements_by_xpath(\"//a[@class='subTitle ellipsis fleft']\")\n",
    "companies_tags[0:10]"
   ]
  },
  {
   "cell_type": "code",
   "execution_count": 66,
   "metadata": {},
   "outputs": [
    {
     "data": {
      "text/plain": [
       "['CAIA-Center For Artificial Intelligence & Advanced Analytics',\n",
       " 'MagicBase Royal BD Pvt Ltd',\n",
       " 'Flipkart Internet Private Limited',\n",
       " 'Flipkart Internet Private Limited',\n",
       " 'Cognizant Technology Solutions India Ltd',\n",
       " 'GENPACT India Private Limited',\n",
       " 'AVE-Promagne',\n",
       " 'Altimetrik India Pvt. Ltd',\n",
       " 'Thinkbumblebee Analytics Pvt Ltd',\n",
       " 'Capgemini Technology Services India Limited']"
      ]
     },
     "execution_count": 66,
     "metadata": {},
     "output_type": "execute_result"
    }
   ],
   "source": [
    "# 10 text of the companies name are inside the tags which are extracted above\n",
    "# now we'll run a loop to iterate over the tags to extract the text inside the empty list\n",
    "\n",
    "for t in companies_tags:\n",
    "    company=t.text\n",
    "    company_names.append(company)\n",
    "company_names[0:10]"
   ]
  },
  {
   "cell_type": "code",
   "execution_count": 67,
   "metadata": {},
   "outputs": [
    {
     "data": {
      "text/plain": [
       "[<selenium.webdriver.remote.webelement.WebElement (session=\"6fc3b033cdb75ce4c9c16b871d3b49c7\", element=\"002c79cb-fc64-4032-9956-fd2fd8d037bb\")>,\n",
       " <selenium.webdriver.remote.webelement.WebElement (session=\"6fc3b033cdb75ce4c9c16b871d3b49c7\", element=\"9e9ca65e-b078-4e84-b8fa-19abf22b538b\")>,\n",
       " <selenium.webdriver.remote.webelement.WebElement (session=\"6fc3b033cdb75ce4c9c16b871d3b49c7\", element=\"1bac320d-f6ca-4424-acbf-c2bc6e97b96a\")>,\n",
       " <selenium.webdriver.remote.webelement.WebElement (session=\"6fc3b033cdb75ce4c9c16b871d3b49c7\", element=\"d1bcf61a-87f1-49db-83a3-93f070fbe3d1\")>,\n",
       " <selenium.webdriver.remote.webelement.WebElement (session=\"6fc3b033cdb75ce4c9c16b871d3b49c7\", element=\"5d70c8ac-ae6e-4ed7-9c98-a84fd005b6d8\")>,\n",
       " <selenium.webdriver.remote.webelement.WebElement (session=\"6fc3b033cdb75ce4c9c16b871d3b49c7\", element=\"12638f82-94bc-45e0-941d-646d18beb7e2\")>,\n",
       " <selenium.webdriver.remote.webelement.WebElement (session=\"6fc3b033cdb75ce4c9c16b871d3b49c7\", element=\"3ead82fb-4393-4959-a356-dd3828121214\")>,\n",
       " <selenium.webdriver.remote.webelement.WebElement (session=\"6fc3b033cdb75ce4c9c16b871d3b49c7\", element=\"ab8b535e-56d9-4ad8-9ba4-1306f665cf61\")>,\n",
       " <selenium.webdriver.remote.webelement.WebElement (session=\"6fc3b033cdb75ce4c9c16b871d3b49c7\", element=\"c0bd14c9-c117-453b-920c-75f9416e1eef\")>,\n",
       " <selenium.webdriver.remote.webelement.WebElement (session=\"6fc3b033cdb75ce4c9c16b871d3b49c7\", element=\"edcff09a-0a61-465b-9099-d23ca6697f4e\")>]"
      ]
     },
     "execution_count": 67,
     "metadata": {},
     "output_type": "execute_result"
    }
   ],
   "source": [
    "# 1st we'll extract all the tags having the experience_required\n",
    "experience_tags=driver.find_elements_by_xpath(\"//li[@class='fleft grey-text br2 placeHolderLi experience']/span[1]\")\n",
    "experience_tags[0:10]"
   ]
  },
  {
   "cell_type": "code",
   "execution_count": 68,
   "metadata": {},
   "outputs": [
    {
     "data": {
      "text/plain": [
       "['0-3 Yrs',\n",
       " '0-5 Yrs',\n",
       " '2-5 Yrs',\n",
       " '2-5 Yrs',\n",
       " '2-3 Yrs',\n",
       " '3-6 Yrs',\n",
       " '2-5 Yrs',\n",
       " '3-8 Yrs',\n",
       " '3-6 Yrs',\n",
       " '4-6 Yrs']"
      ]
     },
     "execution_count": 68,
     "metadata": {},
     "output_type": "execute_result"
    }
   ],
   "source": [
    "# 10 text of the experience are inside the tags which are extracted above\n",
    "# now we'll run a loop to iterate over the tags to extract the text inside the empty list\n",
    "\n",
    "for t in experience_tags:\n",
    "    experience=t.text\n",
    "    experience_required.append(experience)\n",
    "experience_required[0:10]"
   ]
  },
  {
   "cell_type": "code",
   "execution_count": 69,
   "metadata": {},
   "outputs": [
    {
     "name": "stdout",
     "output_type": "stream",
     "text": [
      "20 20 20 20\n"
     ]
    }
   ],
   "source": [
    "print(len(job_title),len(job_location),len(company_names),len(experience_required))"
   ]
  },
  {
   "cell_type": "code",
   "execution_count": 70,
   "metadata": {},
   "outputs": [],
   "source": [
    "jobs=pd.DataFrame({})\n",
    "jobs['Title']=job_title\n",
    "jobs['Location']=job_location\n",
    "jobs['Company']=company_names\n",
    "jobs['Experience']=experience_required"
   ]
  },
  {
   "cell_type": "code",
   "execution_count": 71,
   "metadata": {},
   "outputs": [
    {
     "data": {
      "text/html": [
       "<div>\n",
       "<style scoped>\n",
       "    .dataframe tbody tr th:only-of-type {\n",
       "        vertical-align: middle;\n",
       "    }\n",
       "\n",
       "    .dataframe tbody tr th {\n",
       "        vertical-align: top;\n",
       "    }\n",
       "\n",
       "    .dataframe thead th {\n",
       "        text-align: right;\n",
       "    }\n",
       "</style>\n",
       "<table border=\"1\" class=\"dataframe\">\n",
       "  <thead>\n",
       "    <tr style=\"text-align: right;\">\n",
       "      <th></th>\n",
       "      <th>Title</th>\n",
       "      <th>Location</th>\n",
       "      <th>Company</th>\n",
       "      <th>Experience</th>\n",
       "    </tr>\n",
       "  </thead>\n",
       "  <tbody>\n",
       "    <tr>\n",
       "      <th>0</th>\n",
       "      <td>Immediate opening For Data Scientist/Data Analyst</td>\n",
       "      <td>Chennai, Pune, Bengaluru, Hyderabad</td>\n",
       "      <td>CAIA-Center For Artificial Intelligence &amp; Adva...</td>\n",
       "      <td>0-3 Yrs</td>\n",
       "    </tr>\n",
       "    <tr>\n",
       "      <th>1</th>\n",
       "      <td>SAS AML Data Analyst / Trainee &amp; Data Science,...</td>\n",
       "      <td>Bengaluru(Whitefield)</td>\n",
       "      <td>MagicBase Royal BD Pvt Ltd</td>\n",
       "      <td>0-5 Yrs</td>\n",
       "    </tr>\n",
       "    <tr>\n",
       "      <th>2</th>\n",
       "      <td>Hiring Data Analysts</td>\n",
       "      <td>Bengaluru</td>\n",
       "      <td>Flipkart Internet Private Limited</td>\n",
       "      <td>2-5 Yrs</td>\n",
       "    </tr>\n",
       "    <tr>\n",
       "      <th>3</th>\n",
       "      <td>Hiring Data Analysts</td>\n",
       "      <td>Bengaluru</td>\n",
       "      <td>Flipkart Internet Private Limited</td>\n",
       "      <td>2-5 Yrs</td>\n",
       "    </tr>\n",
       "    <tr>\n",
       "      <th>4</th>\n",
       "      <td>Data Analyst</td>\n",
       "      <td>Bengaluru</td>\n",
       "      <td>Cognizant Technology Solutions India Ltd</td>\n",
       "      <td>2-3 Yrs</td>\n",
       "    </tr>\n",
       "    <tr>\n",
       "      <th>5</th>\n",
       "      <td>Business Data Analyst</td>\n",
       "      <td>Bengaluru</td>\n",
       "      <td>GENPACT India Private Limited</td>\n",
       "      <td>3-6 Yrs</td>\n",
       "    </tr>\n",
       "    <tr>\n",
       "      <th>6</th>\n",
       "      <td>Data Analyst ( Predictive Modelling)</td>\n",
       "      <td>Bengaluru</td>\n",
       "      <td>AVE-Promagne</td>\n",
       "      <td>2-5 Yrs</td>\n",
       "    </tr>\n",
       "    <tr>\n",
       "      <th>7</th>\n",
       "      <td>Data Scientist / Data Analyst</td>\n",
       "      <td>Bengaluru</td>\n",
       "      <td>Altimetrik India Pvt. Ltd</td>\n",
       "      <td>3-8 Yrs</td>\n",
       "    </tr>\n",
       "    <tr>\n",
       "      <th>8</th>\n",
       "      <td>Data Analyst</td>\n",
       "      <td>Pune, Delhi, Mumbai, Bengaluru, Hyderabad</td>\n",
       "      <td>Thinkbumblebee Analytics Pvt Ltd</td>\n",
       "      <td>3-6 Yrs</td>\n",
       "    </tr>\n",
       "    <tr>\n",
       "      <th>9</th>\n",
       "      <td>NiFi Data Analyst</td>\n",
       "      <td>Bengaluru</td>\n",
       "      <td>Capgemini Technology Services India Limited</td>\n",
       "      <td>4-6 Yrs</td>\n",
       "    </tr>\n",
       "  </tbody>\n",
       "</table>\n",
       "</div>"
      ],
      "text/plain": [
       "                                               Title  \\\n",
       "0  Immediate opening For Data Scientist/Data Analyst   \n",
       "1  SAS AML Data Analyst / Trainee & Data Science,...   \n",
       "2                               Hiring Data Analysts   \n",
       "3                               Hiring Data Analysts   \n",
       "4                                       Data Analyst   \n",
       "5                              Business Data Analyst   \n",
       "6               Data Analyst ( Predictive Modelling)   \n",
       "7                      Data Scientist / Data Analyst   \n",
       "8                                       Data Analyst   \n",
       "9                                  NiFi Data Analyst   \n",
       "\n",
       "                                    Location  \\\n",
       "0        Chennai, Pune, Bengaluru, Hyderabad   \n",
       "1                      Bengaluru(Whitefield)   \n",
       "2                                  Bengaluru   \n",
       "3                                  Bengaluru   \n",
       "4                                  Bengaluru   \n",
       "5                                  Bengaluru   \n",
       "6                                  Bengaluru   \n",
       "7                                  Bengaluru   \n",
       "8  Pune, Delhi, Mumbai, Bengaluru, Hyderabad   \n",
       "9                                  Bengaluru   \n",
       "\n",
       "                                             Company Experience  \n",
       "0  CAIA-Center For Artificial Intelligence & Adva...    0-3 Yrs  \n",
       "1                         MagicBase Royal BD Pvt Ltd    0-5 Yrs  \n",
       "2                  Flipkart Internet Private Limited    2-5 Yrs  \n",
       "3                  Flipkart Internet Private Limited    2-5 Yrs  \n",
       "4           Cognizant Technology Solutions India Ltd    2-3 Yrs  \n",
       "5                      GENPACT India Private Limited    3-6 Yrs  \n",
       "6                                       AVE-Promagne    2-5 Yrs  \n",
       "7                          Altimetrik India Pvt. Ltd    3-8 Yrs  \n",
       "8                   Thinkbumblebee Analytics Pvt Ltd    3-6 Yrs  \n",
       "9        Capgemini Technology Services India Limited    4-6 Yrs  "
      ]
     },
     "execution_count": 71,
     "metadata": {},
     "output_type": "execute_result"
    }
   ],
   "source": [
    "jobs[0:10]"
   ]
  },
  {
   "cell_type": "code",
   "execution_count": 72,
   "metadata": {},
   "outputs": [],
   "source": [
    "driver.close()"
   ]
  },
  {
   "cell_type": "code",
   "execution_count": null,
   "metadata": {},
   "outputs": [],
   "source": []
  },
  {
   "cell_type": "markdown",
   "metadata": {},
   "source": [
    "# Q2: Write a python program to scrape data for “Data Scientist” Job position in “Bangalore” location. You have to scrape the job-title, job-location, company_name, full job-description. You have to scrape first 10 jobs data.\n"
   ]
  },
  {
   "cell_type": "code",
   "execution_count": 73,
   "metadata": {},
   "outputs": [],
   "source": [
    "# Connecting to web driver\n",
    "driver = webdriver.Chrome(r\"C:\\Users\\user\\Desktop\\PYTHON\\chromedriver_win32\\chromedriver.exe\")"
   ]
  },
  {
   "cell_type": "code",
   "execution_count": 74,
   "metadata": {},
   "outputs": [],
   "source": [
    "url =\"https://www.naukri.com/data-scientist-jobs-in-bangalore?k=data%20scientist&l=bangalore\""
   ]
  },
  {
   "cell_type": "code",
   "execution_count": 75,
   "metadata": {},
   "outputs": [],
   "source": [
    "# We'll open webpage with our web driver\n",
    "driver.get(url)"
   ]
  },
  {
   "cell_type": "code",
   "execution_count": 76,
   "metadata": {},
   "outputs": [],
   "source": [
    "# creating 4 empty list which will help to store required scrapped data in these list.\n",
    "\n",
    "job_title=[]\n",
    "job_location=[]\n",
    "company_names=[]\n",
    "job_description=[]"
   ]
  },
  {
   "cell_type": "code",
   "execution_count": 77,
   "metadata": {},
   "outputs": [
    {
     "data": {
      "text/plain": [
       "[<selenium.webdriver.remote.webelement.WebElement (session=\"5ac70026542d1da5f3809a6b44e54683\", element=\"eebbcb2e-356a-4490-8cd6-5d76daf69bfa\")>,\n",
       " <selenium.webdriver.remote.webelement.WebElement (session=\"5ac70026542d1da5f3809a6b44e54683\", element=\"ee545022-78ab-406c-a7dc-7907e39df075\")>,\n",
       " <selenium.webdriver.remote.webelement.WebElement (session=\"5ac70026542d1da5f3809a6b44e54683\", element=\"75f5d5b0-e4db-4afc-940f-645dd584deee\")>,\n",
       " <selenium.webdriver.remote.webelement.WebElement (session=\"5ac70026542d1da5f3809a6b44e54683\", element=\"9c25a91c-6125-4f02-bf06-6304bf353341\")>,\n",
       " <selenium.webdriver.remote.webelement.WebElement (session=\"5ac70026542d1da5f3809a6b44e54683\", element=\"3efb57e8-19d3-4956-94ce-96c0a4263815\")>,\n",
       " <selenium.webdriver.remote.webelement.WebElement (session=\"5ac70026542d1da5f3809a6b44e54683\", element=\"37cf4ccc-3d6a-43f7-af4a-46dce46800a6\")>,\n",
       " <selenium.webdriver.remote.webelement.WebElement (session=\"5ac70026542d1da5f3809a6b44e54683\", element=\"29b27063-d1ed-4b48-9b33-128ee85d3060\")>,\n",
       " <selenium.webdriver.remote.webelement.WebElement (session=\"5ac70026542d1da5f3809a6b44e54683\", element=\"d4a4f8ce-268c-4b1d-959d-715352741f98\")>,\n",
       " <selenium.webdriver.remote.webelement.WebElement (session=\"5ac70026542d1da5f3809a6b44e54683\", element=\"ae47eed1-02ee-4a7a-b156-0bfaa1da8924\")>,\n",
       " <selenium.webdriver.remote.webelement.WebElement (session=\"5ac70026542d1da5f3809a6b44e54683\", element=\"d3f947a0-aa6e-48a1-b5b7-89b973a1d373\")>]"
      ]
     },
     "execution_count": 77,
     "metadata": {},
     "output_type": "execute_result"
    }
   ],
   "source": [
    "# 1st we'll extract all the tags having the job_title\n",
    "titles_tags=driver.find_elements_by_xpath(\"//a[@class='title fw500 ellipsis']\")\n",
    "titles_tags[0:10]"
   ]
  },
  {
   "cell_type": "code",
   "execution_count": 78,
   "metadata": {},
   "outputs": [
    {
     "data": {
      "text/plain": [
       "['Immediate opening For Data Scientist/Data Analyst',\n",
       " 'Lead Data Scientist - Machine Learning/ Data Mining',\n",
       " 'Data Scientist / Data Analyst',\n",
       " 'Explore job openings on Data Scientist!!',\n",
       " 'Data Scientist - Python/MATLAB/Machine Learning Algorithms',\n",
       " 'Senior Principal Software Engineer - IT ( Data Scientist )',\n",
       " 'Senior Data Scientist',\n",
       " 'Machine Learning Lead / Data Scientist',\n",
       " 'Global Medical Data Scientist',\n",
       " 'Advanced Architect - Data Scientist']"
      ]
     },
     "execution_count": 78,
     "metadata": {},
     "output_type": "execute_result"
    }
   ],
   "source": [
    "# 10 text of the job titles are inside the tags which are extracted above\n",
    "# now we'll run a loop to iterate over the tags to extract the text inside the empty list\n",
    "\n",
    "for t in titles_tags:\n",
    "    title=t.text\n",
    "    job_title.append(title)\n",
    "job_title[0:10]"
   ]
  },
  {
   "cell_type": "code",
   "execution_count": 79,
   "metadata": {},
   "outputs": [
    {
     "data": {
      "text/plain": [
       "[<selenium.webdriver.remote.webelement.WebElement (session=\"5ac70026542d1da5f3809a6b44e54683\", element=\"48a4bb6d-cf6d-4cfd-b6e3-d9e1f063d6a4\")>,\n",
       " <selenium.webdriver.remote.webelement.WebElement (session=\"5ac70026542d1da5f3809a6b44e54683\", element=\"506f75fe-1125-41e8-9651-fe3b1a6e8dfb\")>,\n",
       " <selenium.webdriver.remote.webelement.WebElement (session=\"5ac70026542d1da5f3809a6b44e54683\", element=\"2469701e-0397-440a-947f-118f46587928\")>,\n",
       " <selenium.webdriver.remote.webelement.WebElement (session=\"5ac70026542d1da5f3809a6b44e54683\", element=\"c78edceb-1662-4c3d-9a4d-6942b48bda39\")>,\n",
       " <selenium.webdriver.remote.webelement.WebElement (session=\"5ac70026542d1da5f3809a6b44e54683\", element=\"b1314ecc-3d8b-42d9-956a-d6509a1e0463\")>,\n",
       " <selenium.webdriver.remote.webelement.WebElement (session=\"5ac70026542d1da5f3809a6b44e54683\", element=\"14c3eeb4-2b7e-4ee5-8df5-256638431992\")>,\n",
       " <selenium.webdriver.remote.webelement.WebElement (session=\"5ac70026542d1da5f3809a6b44e54683\", element=\"3ad26c60-79e2-4d70-9a6d-49d8d6278847\")>,\n",
       " <selenium.webdriver.remote.webelement.WebElement (session=\"5ac70026542d1da5f3809a6b44e54683\", element=\"d8dbd5b4-0a9c-4693-8cef-795668209c39\")>,\n",
       " <selenium.webdriver.remote.webelement.WebElement (session=\"5ac70026542d1da5f3809a6b44e54683\", element=\"f2e2240a-50cc-4f75-ab82-87606f4f0e7b\")>,\n",
       " <selenium.webdriver.remote.webelement.WebElement (session=\"5ac70026542d1da5f3809a6b44e54683\", element=\"e63f4f15-9b0b-4fad-8ee6-c549d2343187\")>]"
      ]
     },
     "execution_count": 79,
     "metadata": {},
     "output_type": "execute_result"
    }
   ],
   "source": [
    "# 2nd we'll extract all the tags having the job_location\n",
    "location_tags=driver.find_elements_by_xpath(\"//li[@class='fleft grey-text br2 placeHolderLi location']/span[1]\")\n",
    "location_tags[0:10]"
   ]
  },
  {
   "cell_type": "code",
   "execution_count": 80,
   "metadata": {},
   "outputs": [
    {
     "data": {
      "text/plain": [
       "['Chennai, Pune, Bengaluru, Hyderabad',\n",
       " 'Bengaluru',\n",
       " 'Bengaluru',\n",
       " 'Pune, Mumbai, Bengaluru',\n",
       " 'Bengaluru',\n",
       " 'Bengaluru',\n",
       " 'Bengaluru',\n",
       " 'Bengaluru',\n",
       " 'Bengaluru',\n",
       " 'Bengaluru']"
      ]
     },
     "execution_count": 80,
     "metadata": {},
     "output_type": "execute_result"
    }
   ],
   "source": [
    "# 10 text of the job location are inside the tags which are extracted above\n",
    "# now we'll run a loop to iterate over the tags to extract the text inside the empty list\n",
    "\n",
    "for t in location_tags:\n",
    "    location=t.text\n",
    "    job_location.append(location)\n",
    "job_location[0:10]"
   ]
  },
  {
   "cell_type": "code",
   "execution_count": 81,
   "metadata": {},
   "outputs": [
    {
     "data": {
      "text/plain": [
       "[<selenium.webdriver.remote.webelement.WebElement (session=\"5ac70026542d1da5f3809a6b44e54683\", element=\"3f44e681-1978-4981-9c71-27caa43145bb\")>,\n",
       " <selenium.webdriver.remote.webelement.WebElement (session=\"5ac70026542d1da5f3809a6b44e54683\", element=\"2a73b66b-2d8c-4b41-ab03-4fdbc9004225\")>,\n",
       " <selenium.webdriver.remote.webelement.WebElement (session=\"5ac70026542d1da5f3809a6b44e54683\", element=\"deeeea3d-6df9-4d6f-b263-419776e9ae95\")>,\n",
       " <selenium.webdriver.remote.webelement.WebElement (session=\"5ac70026542d1da5f3809a6b44e54683\", element=\"b9bc2f45-db20-4f9c-a77d-483e7e286fd7\")>,\n",
       " <selenium.webdriver.remote.webelement.WebElement (session=\"5ac70026542d1da5f3809a6b44e54683\", element=\"58b3814c-fb4b-46fa-92dc-a22d497bc80e\")>,\n",
       " <selenium.webdriver.remote.webelement.WebElement (session=\"5ac70026542d1da5f3809a6b44e54683\", element=\"320939ae-70d0-4d15-9f79-599586fb9708\")>,\n",
       " <selenium.webdriver.remote.webelement.WebElement (session=\"5ac70026542d1da5f3809a6b44e54683\", element=\"33c0b20e-4b0e-414a-94ca-441b8937a811\")>,\n",
       " <selenium.webdriver.remote.webelement.WebElement (session=\"5ac70026542d1da5f3809a6b44e54683\", element=\"9d4f2ef9-9c1d-414e-98ca-47b1357c5e23\")>,\n",
       " <selenium.webdriver.remote.webelement.WebElement (session=\"5ac70026542d1da5f3809a6b44e54683\", element=\"f7201e6c-ae43-4036-90a8-30b000e8e8d7\")>,\n",
       " <selenium.webdriver.remote.webelement.WebElement (session=\"5ac70026542d1da5f3809a6b44e54683\", element=\"4102116b-a3c5-41da-b909-7fc1fe9a520d\")>]"
      ]
     },
     "execution_count": 81,
     "metadata": {},
     "output_type": "execute_result"
    }
   ],
   "source": [
    "# 3rd we'll extract all the tags having the company_name\n",
    "companies_tags=driver.find_elements_by_xpath(\"//a[@class='subTitle ellipsis fleft']\")\n",
    "companies_tags[0:10]"
   ]
  },
  {
   "cell_type": "code",
   "execution_count": 82,
   "metadata": {},
   "outputs": [
    {
     "data": {
      "text/plain": [
       "['CAIA-Center For Artificial Intelligence & Advanced Analytics',\n",
       " 'Wrackle Technologies Pvt Ltd',\n",
       " 'Altimetrik India Pvt. Ltd',\n",
       " 'Bristlecone India Limited',\n",
       " 'Wrackle Technologies Pvt Ltd',\n",
       " 'Dell International Services IndiaPrivate Limited',\n",
       " 'Philips Lighting',\n",
       " 'Morgan Stanley Advantage Services',\n",
       " 'GlaxoSmithKline Pharmaceuticals Limited',\n",
       " 'Mphasis Limited']"
      ]
     },
     "execution_count": 82,
     "metadata": {},
     "output_type": "execute_result"
    }
   ],
   "source": [
    "# 10 text of the companies name are inside the tags which are extracted above\n",
    "# now we'll run a loop to iterate over the tags to extract the text inside the empty list\n",
    "\n",
    "for t in companies_tags:\n",
    "    company=t.text\n",
    "    company_names.append(company)\n",
    "company_names[0:10]"
   ]
  },
  {
   "cell_type": "code",
   "execution_count": 83,
   "metadata": {},
   "outputs": [
    {
     "data": {
      "text/plain": [
       "[<selenium.webdriver.remote.webelement.WebElement (session=\"5ac70026542d1da5f3809a6b44e54683\", element=\"d6ec023b-a9b5-4078-9525-4b40e55d39d8\")>,\n",
       " <selenium.webdriver.remote.webelement.WebElement (session=\"5ac70026542d1da5f3809a6b44e54683\", element=\"05609698-758f-455a-8a36-28f168d2a4da\")>,\n",
       " <selenium.webdriver.remote.webelement.WebElement (session=\"5ac70026542d1da5f3809a6b44e54683\", element=\"8fd35a33-3f91-47c3-8930-6bd733d28f60\")>,\n",
       " <selenium.webdriver.remote.webelement.WebElement (session=\"5ac70026542d1da5f3809a6b44e54683\", element=\"637966e3-0918-489e-8dd4-673818d8e6f4\")>,\n",
       " <selenium.webdriver.remote.webelement.WebElement (session=\"5ac70026542d1da5f3809a6b44e54683\", element=\"a5d5c23a-d52b-4c89-8709-80dae5aa0007\")>,\n",
       " <selenium.webdriver.remote.webelement.WebElement (session=\"5ac70026542d1da5f3809a6b44e54683\", element=\"079145d7-0a3b-473d-b44f-6674728a3161\")>,\n",
       " <selenium.webdriver.remote.webelement.WebElement (session=\"5ac70026542d1da5f3809a6b44e54683\", element=\"dc611097-e7fd-48dd-94b3-ff74edd70916\")>,\n",
       " <selenium.webdriver.remote.webelement.WebElement (session=\"5ac70026542d1da5f3809a6b44e54683\", element=\"2ddeb7fa-e485-4c79-ac38-321767e1a097\")>,\n",
       " <selenium.webdriver.remote.webelement.WebElement (session=\"5ac70026542d1da5f3809a6b44e54683\", element=\"a77509c7-2436-4113-8dcb-1f75bce5bada\")>,\n",
       " <selenium.webdriver.remote.webelement.WebElement (session=\"5ac70026542d1da5f3809a6b44e54683\", element=\"54f6a5cd-d9ac-4f43-b655-260e7c460c50\")>]"
      ]
     },
     "execution_count": 83,
     "metadata": {},
     "output_type": "execute_result"
    }
   ],
   "source": [
    "# 4th we'll extract all the tags having the job_description\n",
    "description_tags=driver.find_elements_by_xpath(\"//div[@class='job-description fs12 grey-text']\")\n",
    "description_tags[0:10]"
   ]
  },
  {
   "cell_type": "code",
   "execution_count": 84,
   "metadata": {},
   "outputs": [
    {
     "data": {
      "text/plain": [
       "['In case you are trying to shift your career to Analytics and / or AI domain please do c...',\n",
       " 'BS / MS/PhD in Computer Science, Statistics, Applied Math, or related areas from Premie...',\n",
       " 'data analytics, or business intelligence experience Experience with conducting Experien...',\n",
       " 'Hands-on python programming with experience designing data science products Hands-on ex...',\n",
       " 'BS / MS/PhD in Computer Science, Statistics, Applied Math, or related areas from Premie...',\n",
       " 'Proficiency in Python or R, Tableu especially on data wrangling, analysis, and modeling...',\n",
       " 'PhD / Masters / BTech in computer science, computer engineering with 7+ years of demons...',\n",
       " 'The Technology & Operations Risk (TOR) organization at Morgan Stanley has the following...',\n",
       " 'medical voice of customer feedback, customer listening, feedback from surveys and resea...',\n",
       " 'Experience working with enterprise architecture for the complex solutions solving busin...']"
      ]
     },
     "execution_count": 84,
     "metadata": {},
     "output_type": "execute_result"
    }
   ],
   "source": [
    "# 10 text of the job_description are inside the tags which are extracted above\n",
    "# now we'll run a loop to iterate over the tags to extract the text inside the empty list\n",
    "\n",
    "for t in description_tags:\n",
    "    description=t.text\n",
    "    job_description.append(description)\n",
    "job_description[0:10]"
   ]
  },
  {
   "cell_type": "code",
   "execution_count": 85,
   "metadata": {},
   "outputs": [
    {
     "name": "stdout",
     "output_type": "stream",
     "text": [
      "20 20 20 20\n"
     ]
    }
   ],
   "source": [
    "print(len(job_title),len(job_location),len(company_names),len(job_description))"
   ]
  },
  {
   "cell_type": "code",
   "execution_count": 86,
   "metadata": {},
   "outputs": [],
   "source": [
    "# Creating a Data Frame to arrange all scrap data in given heading\n",
    "jobs=pd.DataFrame({})\n",
    "jobs['Title']=job_title\n",
    "jobs['Location']=job_location\n",
    "jobs['Company']=company_names\n",
    "jobs['Description']=job_description"
   ]
  },
  {
   "cell_type": "code",
   "execution_count": 87,
   "metadata": {},
   "outputs": [
    {
     "data": {
      "text/html": [
       "<div>\n",
       "<style scoped>\n",
       "    .dataframe tbody tr th:only-of-type {\n",
       "        vertical-align: middle;\n",
       "    }\n",
       "\n",
       "    .dataframe tbody tr th {\n",
       "        vertical-align: top;\n",
       "    }\n",
       "\n",
       "    .dataframe thead th {\n",
       "        text-align: right;\n",
       "    }\n",
       "</style>\n",
       "<table border=\"1\" class=\"dataframe\">\n",
       "  <thead>\n",
       "    <tr style=\"text-align: right;\">\n",
       "      <th></th>\n",
       "      <th>Title</th>\n",
       "      <th>Location</th>\n",
       "      <th>Company</th>\n",
       "      <th>Description</th>\n",
       "    </tr>\n",
       "  </thead>\n",
       "  <tbody>\n",
       "    <tr>\n",
       "      <th>0</th>\n",
       "      <td>Immediate opening For Data Scientist/Data Analyst</td>\n",
       "      <td>Chennai, Pune, Bengaluru, Hyderabad</td>\n",
       "      <td>CAIA-Center For Artificial Intelligence &amp; Adva...</td>\n",
       "      <td>In case you are trying to shift your career to...</td>\n",
       "    </tr>\n",
       "    <tr>\n",
       "      <th>1</th>\n",
       "      <td>Lead Data Scientist - Machine Learning/ Data M...</td>\n",
       "      <td>Bengaluru</td>\n",
       "      <td>Wrackle Technologies Pvt Ltd</td>\n",
       "      <td>BS / MS/PhD in Computer Science, Statistics, A...</td>\n",
       "    </tr>\n",
       "    <tr>\n",
       "      <th>2</th>\n",
       "      <td>Data Scientist / Data Analyst</td>\n",
       "      <td>Bengaluru</td>\n",
       "      <td>Altimetrik India Pvt. Ltd</td>\n",
       "      <td>data analytics, or business intelligence exper...</td>\n",
       "    </tr>\n",
       "    <tr>\n",
       "      <th>3</th>\n",
       "      <td>Explore job openings on Data Scientist!!</td>\n",
       "      <td>Pune, Mumbai, Bengaluru</td>\n",
       "      <td>Bristlecone India Limited</td>\n",
       "      <td>Hands-on python programming with experience de...</td>\n",
       "    </tr>\n",
       "    <tr>\n",
       "      <th>4</th>\n",
       "      <td>Data Scientist - Python/MATLAB/Machine Learnin...</td>\n",
       "      <td>Bengaluru</td>\n",
       "      <td>Wrackle Technologies Pvt Ltd</td>\n",
       "      <td>BS / MS/PhD in Computer Science, Statistics, A...</td>\n",
       "    </tr>\n",
       "    <tr>\n",
       "      <th>5</th>\n",
       "      <td>Senior Principal Software Engineer - IT ( Data...</td>\n",
       "      <td>Bengaluru</td>\n",
       "      <td>Dell International Services IndiaPrivate Limited</td>\n",
       "      <td>Proficiency in Python or R, Tableu especially ...</td>\n",
       "    </tr>\n",
       "    <tr>\n",
       "      <th>6</th>\n",
       "      <td>Senior Data Scientist</td>\n",
       "      <td>Bengaluru</td>\n",
       "      <td>Philips Lighting</td>\n",
       "      <td>PhD / Masters / BTech in computer science, com...</td>\n",
       "    </tr>\n",
       "    <tr>\n",
       "      <th>7</th>\n",
       "      <td>Machine Learning Lead / Data Scientist</td>\n",
       "      <td>Bengaluru</td>\n",
       "      <td>Morgan Stanley Advantage Services</td>\n",
       "      <td>The Technology &amp; Operations Risk (TOR) organiz...</td>\n",
       "    </tr>\n",
       "    <tr>\n",
       "      <th>8</th>\n",
       "      <td>Global Medical Data Scientist</td>\n",
       "      <td>Bengaluru</td>\n",
       "      <td>GlaxoSmithKline Pharmaceuticals Limited</td>\n",
       "      <td>medical voice of customer feedback, customer l...</td>\n",
       "    </tr>\n",
       "    <tr>\n",
       "      <th>9</th>\n",
       "      <td>Advanced Architect - Data Scientist</td>\n",
       "      <td>Bengaluru</td>\n",
       "      <td>Mphasis Limited</td>\n",
       "      <td>Experience working with enterprise architectur...</td>\n",
       "    </tr>\n",
       "  </tbody>\n",
       "</table>\n",
       "</div>"
      ],
      "text/plain": [
       "                                               Title  \\\n",
       "0  Immediate opening For Data Scientist/Data Analyst   \n",
       "1  Lead Data Scientist - Machine Learning/ Data M...   \n",
       "2                      Data Scientist / Data Analyst   \n",
       "3           Explore job openings on Data Scientist!!   \n",
       "4  Data Scientist - Python/MATLAB/Machine Learnin...   \n",
       "5  Senior Principal Software Engineer - IT ( Data...   \n",
       "6                              Senior Data Scientist   \n",
       "7             Machine Learning Lead / Data Scientist   \n",
       "8                      Global Medical Data Scientist   \n",
       "9                Advanced Architect - Data Scientist   \n",
       "\n",
       "                              Location  \\\n",
       "0  Chennai, Pune, Bengaluru, Hyderabad   \n",
       "1                            Bengaluru   \n",
       "2                            Bengaluru   \n",
       "3              Pune, Mumbai, Bengaluru   \n",
       "4                            Bengaluru   \n",
       "5                            Bengaluru   \n",
       "6                            Bengaluru   \n",
       "7                            Bengaluru   \n",
       "8                            Bengaluru   \n",
       "9                            Bengaluru   \n",
       "\n",
       "                                             Company  \\\n",
       "0  CAIA-Center For Artificial Intelligence & Adva...   \n",
       "1                       Wrackle Technologies Pvt Ltd   \n",
       "2                          Altimetrik India Pvt. Ltd   \n",
       "3                          Bristlecone India Limited   \n",
       "4                       Wrackle Technologies Pvt Ltd   \n",
       "5   Dell International Services IndiaPrivate Limited   \n",
       "6                                   Philips Lighting   \n",
       "7                  Morgan Stanley Advantage Services   \n",
       "8            GlaxoSmithKline Pharmaceuticals Limited   \n",
       "9                                    Mphasis Limited   \n",
       "\n",
       "                                         Description  \n",
       "0  In case you are trying to shift your career to...  \n",
       "1  BS / MS/PhD in Computer Science, Statistics, A...  \n",
       "2  data analytics, or business intelligence exper...  \n",
       "3  Hands-on python programming with experience de...  \n",
       "4  BS / MS/PhD in Computer Science, Statistics, A...  \n",
       "5  Proficiency in Python or R, Tableu especially ...  \n",
       "6  PhD / Masters / BTech in computer science, com...  \n",
       "7  The Technology & Operations Risk (TOR) organiz...  \n",
       "8  medical voice of customer feedback, customer l...  \n",
       "9  Experience working with enterprise architectur...  "
      ]
     },
     "execution_count": 87,
     "metadata": {},
     "output_type": "execute_result"
    }
   ],
   "source": [
    "jobs[0:10]"
   ]
  },
  {
   "cell_type": "code",
   "execution_count": 88,
   "metadata": {},
   "outputs": [],
   "source": [
    "driver.close()"
   ]
  },
  {
   "cell_type": "code",
   "execution_count": null,
   "metadata": {},
   "outputs": [],
   "source": []
  },
  {
   "cell_type": "markdown",
   "metadata": {},
   "source": [
    "# Q4: Write a python program to scrape data for first 10 job results for Data scientist Designation in Noida location. You have to scrape company_name, No. of days ago when job was posted, Rating of the company"
   ]
  },
  {
   "cell_type": "code",
   "execution_count": 89,
   "metadata": {},
   "outputs": [],
   "source": [
    "# Connecting to web driver\n",
    "driver = webdriver.Chrome(r\"C:\\Users\\user\\Desktop\\PYTHON\\chromedriver_win32\\chromedriver.exe\")"
   ]
  },
  {
   "cell_type": "code",
   "execution_count": 90,
   "metadata": {},
   "outputs": [],
   "source": [
    "url =\"https://www.naukri.com/data-scientist-jobs-in-noida?k=data%20scientist&l=noida\""
   ]
  },
  {
   "cell_type": "code",
   "execution_count": 91,
   "metadata": {},
   "outputs": [],
   "source": [
    "# We'll open webpage with our web driver\n",
    "driver.get(url)"
   ]
  },
  {
   "cell_type": "code",
   "execution_count": 92,
   "metadata": {},
   "outputs": [],
   "source": [
    "# creating  empty list which will help to store required scrapped data in these list.\n",
    "\n",
    "company_names=[]\n",
    "posting_date=[]\n",
    "company_ratings=[]"
   ]
  },
  {
   "cell_type": "code",
   "execution_count": 93,
   "metadata": {},
   "outputs": [
    {
     "data": {
      "text/plain": [
       "[<selenium.webdriver.remote.webelement.WebElement (session=\"b0741773e4f90437047613c52b93bb33\", element=\"0b9d2152-1405-4f10-a436-4a898af5bd39\")>,\n",
       " <selenium.webdriver.remote.webelement.WebElement (session=\"b0741773e4f90437047613c52b93bb33\", element=\"c89af3bb-9a28-4448-9798-0e1376eee905\")>,\n",
       " <selenium.webdriver.remote.webelement.WebElement (session=\"b0741773e4f90437047613c52b93bb33\", element=\"dfa09c90-c57b-409a-92c6-c720ca1e314a\")>,\n",
       " <selenium.webdriver.remote.webelement.WebElement (session=\"b0741773e4f90437047613c52b93bb33\", element=\"ae3b89e2-7263-47be-b2eb-28b49d872b90\")>,\n",
       " <selenium.webdriver.remote.webelement.WebElement (session=\"b0741773e4f90437047613c52b93bb33\", element=\"4df44854-66be-4a49-b5c8-1dd1f43503ea\")>,\n",
       " <selenium.webdriver.remote.webelement.WebElement (session=\"b0741773e4f90437047613c52b93bb33\", element=\"52182a45-6f57-47a8-b472-e2b8b85c519a\")>,\n",
       " <selenium.webdriver.remote.webelement.WebElement (session=\"b0741773e4f90437047613c52b93bb33\", element=\"ffc67e21-c5c3-4803-95ae-8cfb9e6b091e\")>,\n",
       " <selenium.webdriver.remote.webelement.WebElement (session=\"b0741773e4f90437047613c52b93bb33\", element=\"4471d3e3-054d-43bc-91ce-05b4270cc977\")>,\n",
       " <selenium.webdriver.remote.webelement.WebElement (session=\"b0741773e4f90437047613c52b93bb33\", element=\"4a281c90-1eb5-4057-ba6f-e8b1a11e24f7\")>,\n",
       " <selenium.webdriver.remote.webelement.WebElement (session=\"b0741773e4f90437047613c52b93bb33\", element=\"e3aa3374-708c-43f2-b2c0-f703b11f895c\")>]"
      ]
     },
     "execution_count": 93,
     "metadata": {},
     "output_type": "execute_result"
    }
   ],
   "source": [
    "# 1st we'll extract all the tags having the company_name\n",
    "companies_tags=driver.find_elements_by_xpath(\"//a[@class='subTitle ellipsis fleft']\")\n",
    "companies_tags[0:10]"
   ]
  },
  {
   "cell_type": "code",
   "execution_count": 94,
   "metadata": {},
   "outputs": [
    {
     "data": {
      "text/plain": [
       "['tech mahindra ltd',\n",
       " 'Jubna',\n",
       " 'Durr AG',\n",
       " 'Durr India',\n",
       " 'D rr AG',\n",
       " 'GABA Consultancy services',\n",
       " 'GABA Consultancy services',\n",
       " 'Hiring Joint',\n",
       " 'NEC CORPORATION INDIA PRIVATE LTD',\n",
       " 'NEC CORPORATION INDIA PRIVATE LTD']"
      ]
     },
     "execution_count": 94,
     "metadata": {},
     "output_type": "execute_result"
    }
   ],
   "source": [
    "# 10 text of the companies name are inside the tags which are extracted above\n",
    "# now we'll run a loop to iterate over the tags to extract the text inside the empty list\n",
    "\n",
    "for t in companies_tags:\n",
    "    company=t.text\n",
    "    company_names.append(company)\n",
    "company_names[0:10]"
   ]
  },
  {
   "cell_type": "code",
   "execution_count": 95,
   "metadata": {},
   "outputs": [
    {
     "data": {
      "text/plain": [
       "[<selenium.webdriver.remote.webelement.WebElement (session=\"b0741773e4f90437047613c52b93bb33\", element=\"d9f8f365-55f6-409f-9c9f-c139b3cdc2ef\")>,\n",
       " <selenium.webdriver.remote.webelement.WebElement (session=\"b0741773e4f90437047613c52b93bb33\", element=\"ddbe88d3-2594-40bc-8fc4-0b51e96a2c64\")>,\n",
       " <selenium.webdriver.remote.webelement.WebElement (session=\"b0741773e4f90437047613c52b93bb33\", element=\"bf676e3c-4e04-4792-9996-7634d83e8923\")>,\n",
       " <selenium.webdriver.remote.webelement.WebElement (session=\"b0741773e4f90437047613c52b93bb33\", element=\"18ed3aae-bc1c-4aca-b895-2665e9a90615\")>,\n",
       " <selenium.webdriver.remote.webelement.WebElement (session=\"b0741773e4f90437047613c52b93bb33\", element=\"feb70e76-e7a1-4183-9027-d852a448599e\")>,\n",
       " <selenium.webdriver.remote.webelement.WebElement (session=\"b0741773e4f90437047613c52b93bb33\", element=\"f06be229-673f-4084-89fb-5fb1a059aa1d\")>,\n",
       " <selenium.webdriver.remote.webelement.WebElement (session=\"b0741773e4f90437047613c52b93bb33\", element=\"e3062b2c-f34f-4462-ae02-38b699588532\")>,\n",
       " <selenium.webdriver.remote.webelement.WebElement (session=\"b0741773e4f90437047613c52b93bb33\", element=\"0c2ce35a-b426-438b-b0e8-07b853385c49\")>,\n",
       " <selenium.webdriver.remote.webelement.WebElement (session=\"b0741773e4f90437047613c52b93bb33\", element=\"47c0d837-5c41-487f-ad68-73bb26fd86ab\")>,\n",
       " <selenium.webdriver.remote.webelement.WebElement (session=\"b0741773e4f90437047613c52b93bb33\", element=\"2e7ca538-3d92-40e4-9be9-3d77ec98db1f\")>]"
      ]
     },
     "execution_count": 95,
     "metadata": {},
     "output_type": "execute_result"
    }
   ],
   "source": [
    "# 2nd we'll extract all the tags having the job posting date\n",
    "posting_tags=driver.find_elements_by_xpath(\"//span[@class='fleft fw500']\")\n",
    "posting_tags[0:10]"
   ]
  },
  {
   "cell_type": "code",
   "execution_count": 96,
   "metadata": {},
   "outputs": [
    {
     "data": {
      "text/plain": [
       "['HOT JOB',\n",
       " '13 DAYS AGO',\n",
       " 'HOT JOB',\n",
       " '2 DAYS AGO',\n",
       " 'PREMIUM',\n",
       " '5 DAYS AGO',\n",
       " '5 DAYS AGO',\n",
       " 'PREMIUM',\n",
       " '8 DAYS AGO',\n",
       " '11 DAYS AGO']"
      ]
     },
     "execution_count": 96,
     "metadata": {},
     "output_type": "execute_result"
    }
   ],
   "source": [
    "# 10 text of the job posting date are inside the tags which are extracted above\n",
    "# now we'll run a loop to iterate over the tags to extract the text inside the empty list\n",
    "\n",
    "for t in posting_tags:\n",
    "    posting=t.text\n",
    "    posting_date.append(posting)\n",
    "posting_date[0:10]"
   ]
  },
  {
   "cell_type": "raw",
   "metadata": {},
   "source": [
    "\"\"\"\n",
    "How to get only the dates ?\n",
    "\n",
    "\"\"\""
   ]
  },
  {
   "cell_type": "code",
   "execution_count": 97,
   "metadata": {},
   "outputs": [
    {
     "data": {
      "text/plain": [
       "[<selenium.webdriver.remote.webelement.WebElement (session=\"b0741773e4f90437047613c52b93bb33\", element=\"8593df7e-4496-4f20-84ab-081b220fc612\")>,\n",
       " <selenium.webdriver.remote.webelement.WebElement (session=\"b0741773e4f90437047613c52b93bb33\", element=\"d0ca6da7-bdab-4842-8615-33afc7b9b949\")>,\n",
       " <selenium.webdriver.remote.webelement.WebElement (session=\"b0741773e4f90437047613c52b93bb33\", element=\"3c3594c8-5923-4c31-bd3a-bc3c472135a8\")>,\n",
       " <selenium.webdriver.remote.webelement.WebElement (session=\"b0741773e4f90437047613c52b93bb33\", element=\"0613b301-6964-45ed-9e03-f4044adc76da\")>]"
      ]
     },
     "execution_count": 97,
     "metadata": {},
     "output_type": "execute_result"
    }
   ],
   "source": [
    "# 3rd we'll extract all the tags having the company_rating\n",
    "rating_tags=driver.find_elements_by_xpath(\"//span[@class='starRating fleft dot']\")\n",
    "rating_tags[0:10]"
   ]
  },
  {
   "cell_type": "code",
   "execution_count": 98,
   "metadata": {},
   "outputs": [
    {
     "data": {
      "text/plain": [
       "['3.5', '4.2', '5.0', '4.3']"
      ]
     },
     "execution_count": 98,
     "metadata": {},
     "output_type": "execute_result"
    }
   ],
   "source": [
    "# 10 text of the companies rating are inside the tags which are extracted above\n",
    "# now we'll run a loop to iterate over the tags to extract the text inside the empty list\n",
    "\n",
    "for t in rating_tags:\n",
    "    rating=t.text\n",
    "    company_ratings.append(rating)\n",
    "company_ratings[0:10]"
   ]
  },
  {
   "cell_type": "code",
   "execution_count": 99,
   "metadata": {},
   "outputs": [
    {
     "name": "stdout",
     "output_type": "stream",
     "text": [
      "20 33 4\n"
     ]
    }
   ],
   "source": [
    "print(len(company_names),len(posting_date),len(company_ratings))"
   ]
  },
  {
   "cell_type": "raw",
   "metadata": {},
   "source": [
    "\"\"\"\n",
    "Length is not same, how to deal with it?\n",
    "\"\"\""
   ]
  },
  {
   "cell_type": "code",
   "execution_count": 100,
   "metadata": {},
   "outputs": [],
   "source": [
    "# Creating a Data Series to arrange all scrap data in given heading \n",
    "# because the len is not the same of all the headings\n",
    "jobs=pd.Series([])\n",
    "\n",
    "jobs['Company']=company_names\n",
    "jobs['Posting']=posting_date\n",
    "jobs['Ratings']=company_ratings"
   ]
  },
  {
   "cell_type": "code",
   "execution_count": 101,
   "metadata": {},
   "outputs": [
    {
     "data": {
      "text/plain": [
       "Company    [tech mahindra ltd, Jubna, Durr AG, Durr India...\n",
       "Posting    [HOT JOB, 13 DAYS AGO, HOT JOB, 2 DAYS AGO, PR...\n",
       "Ratings                                 [3.5, 4.2, 5.0, 4.3]\n",
       "dtype: object"
      ]
     },
     "execution_count": 101,
     "metadata": {},
     "output_type": "execute_result"
    }
   ],
   "source": [
    "jobs[0:10]"
   ]
  },
  {
   "cell_type": "code",
   "execution_count": 102,
   "metadata": {},
   "outputs": [],
   "source": [
    "# converting data series to data frame\n",
    "job=pd.DataFrame(zip(company_names,posting_date,company_ratings))"
   ]
  },
  {
   "cell_type": "code",
   "execution_count": 103,
   "metadata": {},
   "outputs": [],
   "source": [
    "#Renaming the column name\n",
    "job.columns = ['Company', 'Posting', 'Ratings']"
   ]
  },
  {
   "cell_type": "code",
   "execution_count": 104,
   "metadata": {},
   "outputs": [
    {
     "data": {
      "text/html": [
       "<div>\n",
       "<style scoped>\n",
       "    .dataframe tbody tr th:only-of-type {\n",
       "        vertical-align: middle;\n",
       "    }\n",
       "\n",
       "    .dataframe tbody tr th {\n",
       "        vertical-align: top;\n",
       "    }\n",
       "\n",
       "    .dataframe thead th {\n",
       "        text-align: right;\n",
       "    }\n",
       "</style>\n",
       "<table border=\"1\" class=\"dataframe\">\n",
       "  <thead>\n",
       "    <tr style=\"text-align: right;\">\n",
       "      <th></th>\n",
       "      <th>Company</th>\n",
       "      <th>Posting</th>\n",
       "      <th>Ratings</th>\n",
       "    </tr>\n",
       "  </thead>\n",
       "  <tbody>\n",
       "    <tr>\n",
       "      <th>0</th>\n",
       "      <td>tech mahindra ltd</td>\n",
       "      <td>HOT JOB</td>\n",
       "      <td>3.5</td>\n",
       "    </tr>\n",
       "    <tr>\n",
       "      <th>1</th>\n",
       "      <td>Jubna</td>\n",
       "      <td>13 DAYS AGO</td>\n",
       "      <td>4.2</td>\n",
       "    </tr>\n",
       "    <tr>\n",
       "      <th>2</th>\n",
       "      <td>Durr AG</td>\n",
       "      <td>HOT JOB</td>\n",
       "      <td>5.0</td>\n",
       "    </tr>\n",
       "    <tr>\n",
       "      <th>3</th>\n",
       "      <td>Durr India</td>\n",
       "      <td>2 DAYS AGO</td>\n",
       "      <td>4.3</td>\n",
       "    </tr>\n",
       "  </tbody>\n",
       "</table>\n",
       "</div>"
      ],
      "text/plain": [
       "             Company      Posting Ratings\n",
       "0  tech mahindra ltd      HOT JOB     3.5\n",
       "1              Jubna  13 DAYS AGO     4.2\n",
       "2            Durr AG      HOT JOB     5.0\n",
       "3         Durr India   2 DAYS AGO     4.3"
      ]
     },
     "execution_count": 104,
     "metadata": {},
     "output_type": "execute_result"
    }
   ],
   "source": [
    "job[0:10]"
   ]
  },
  {
   "cell_type": "code",
   "execution_count": 106,
   "metadata": {},
   "outputs": [],
   "source": [
    "driver.close()"
   ]
  },
  {
   "cell_type": "code",
   "execution_count": null,
   "metadata": {},
   "outputs": [],
   "source": []
  },
  {
   "cell_type": "markdown",
   "metadata": {},
   "source": [
    "# Q5: Write a python program to scrape the salary data for Data Scientist designation in Noida location.You have to scrape Company name, Number of salaries, Average salary, Min salary, Max Salary."
   ]
  },
  {
   "cell_type": "code",
   "execution_count": 110,
   "metadata": {},
   "outputs": [],
   "source": [
    "# Connecting to web driver\n",
    "driver = webdriver.Chrome(r\"C:\\Users\\user\\Desktop\\PYTHON\\chromedriver_win32\\chromedriver.exe\")"
   ]
  },
  {
   "cell_type": "code",
   "execution_count": 111,
   "metadata": {},
   "outputs": [],
   "source": [
    "url =\"https://www.glassdoor.co.in/Salaries/new-delhi-data-scientist-salary-SRCH_IL.0,9_IM1083_KO10,24.htm?clickSource=searchBtn\""
   ]
  },
  {
   "cell_type": "code",
   "execution_count": 112,
   "metadata": {},
   "outputs": [],
   "source": [
    "# We'll open webpage with our web driver\n",
    "driver.get(url)"
   ]
  },
  {
   "cell_type": "code",
   "execution_count": 113,
   "metadata": {},
   "outputs": [],
   "source": [
    "# creating 5 empty list which will help to store required scrapped data in these list.\n",
    "\n",
    "\n",
    "company_names=[]\n",
    "number_salaries=[]\n",
    "average_salary=[]\n",
    "min_salary=[]\n",
    "max_salary=[]"
   ]
  },
  {
   "cell_type": "code",
   "execution_count": 115,
   "metadata": {},
   "outputs": [
    {
     "data": {
      "text/plain": [
       "[<selenium.webdriver.remote.webelement.WebElement (session=\"7d509e5d840ca2f4f59cdad007cd1ccc\", element=\"ec42eb52-a76c-443d-b1c0-f3e4718b0a08\")>,\n",
       " <selenium.webdriver.remote.webelement.WebElement (session=\"7d509e5d840ca2f4f59cdad007cd1ccc\", element=\"187cfbdf-710b-450b-be1a-3d87b4004893\")>,\n",
       " <selenium.webdriver.remote.webelement.WebElement (session=\"7d509e5d840ca2f4f59cdad007cd1ccc\", element=\"77918a7c-9969-40a7-872a-146d6933fde8\")>,\n",
       " <selenium.webdriver.remote.webelement.WebElement (session=\"7d509e5d840ca2f4f59cdad007cd1ccc\", element=\"87641374-39b4-418b-87b5-45079dbb88f0\")>,\n",
       " <selenium.webdriver.remote.webelement.WebElement (session=\"7d509e5d840ca2f4f59cdad007cd1ccc\", element=\"adc922f8-b5d0-416a-a824-76e0a6ccb7e3\")>,\n",
       " <selenium.webdriver.remote.webelement.WebElement (session=\"7d509e5d840ca2f4f59cdad007cd1ccc\", element=\"e4e217f6-d0eb-4aa4-ad1a-ba89a3501be8\")>,\n",
       " <selenium.webdriver.remote.webelement.WebElement (session=\"7d509e5d840ca2f4f59cdad007cd1ccc\", element=\"19b1edad-b5e4-4ec9-b667-181dbd390aee\")>,\n",
       " <selenium.webdriver.remote.webelement.WebElement (session=\"7d509e5d840ca2f4f59cdad007cd1ccc\", element=\"5a22112e-9a04-4338-9de4-16cf866a88f9\")>,\n",
       " <selenium.webdriver.remote.webelement.WebElement (session=\"7d509e5d840ca2f4f59cdad007cd1ccc\", element=\"4af7e451-945f-4715-b95e-d0aa771c3638\")>,\n",
       " <selenium.webdriver.remote.webelement.WebElement (session=\"7d509e5d840ca2f4f59cdad007cd1ccc\", element=\"29b9e147-9150-4538-aa67-824fb7cb8ffc\")>]"
      ]
     },
     "execution_count": 115,
     "metadata": {},
     "output_type": "execute_result"
    }
   ],
   "source": [
    "# 1st we'll extract all the tags having the company_name\n",
    "companies_tags=driver.find_elements_by_xpath(\"//p[@class='m-0']\")\n",
    "companies_tags[0:10]"
   ]
  },
  {
   "cell_type": "code",
   "execution_count": 116,
   "metadata": {},
   "outputs": [
    {
     "data": {
      "text/plain": [
       "['Data Scientist',\n",
       " 'Delhivery',\n",
       " 'See 13 salaries from all locations',\n",
       " 'Data Scientist',\n",
       " 'Accenture',\n",
       " 'See 31 salaries from all locations',\n",
       " 'Data Scientist',\n",
       " 'IBM',\n",
       " 'See 62 salaries from all locations',\n",
       " 'Data Scientist']"
      ]
     },
     "execution_count": 116,
     "metadata": {},
     "output_type": "execute_result"
    }
   ],
   "source": [
    "# 10 text of the companies name are inside the tags which are extracted above\n",
    "# now we'll run a loop to iterate over the tags to extract the text inside the empty list\n",
    "\n",
    "for t in companies_tags:\n",
    "    company=t.text\n",
    "    company_names.append(company)\n",
    "company_names[0:10]"
   ]
  },
  {
   "cell_type": "code",
   "execution_count": null,
   "metadata": {},
   "outputs": [],
   "source": [
    "\"\"\"\n",
    "Un wanted data like \"Data Scientist\"\n",
    "\"\"\""
   ]
  },
  {
   "cell_type": "code",
   "execution_count": 118,
   "metadata": {},
   "outputs": [
    {
     "data": {
      "text/plain": [
       "[<selenium.webdriver.remote.webelement.WebElement (session=\"7d509e5d840ca2f4f59cdad007cd1ccc\", element=\"bc264e12-ce07-4b69-be20-a43b1d19a52c\")>,\n",
       " <selenium.webdriver.remote.webelement.WebElement (session=\"7d509e5d840ca2f4f59cdad007cd1ccc\", element=\"5a78f4dc-8398-42c4-9880-be28b06c1f57\")>,\n",
       " <selenium.webdriver.remote.webelement.WebElement (session=\"7d509e5d840ca2f4f59cdad007cd1ccc\", element=\"fb66cb39-c3b5-416a-b68a-875a6ee4852b\")>,\n",
       " <selenium.webdriver.remote.webelement.WebElement (session=\"7d509e5d840ca2f4f59cdad007cd1ccc\", element=\"efd44549-626d-4484-890d-5e305279821f\")>,\n",
       " <selenium.webdriver.remote.webelement.WebElement (session=\"7d509e5d840ca2f4f59cdad007cd1ccc\", element=\"929d08da-0912-4b1e-bf86-8aa9bfd7d1c5\")>,\n",
       " <selenium.webdriver.remote.webelement.WebElement (session=\"7d509e5d840ca2f4f59cdad007cd1ccc\", element=\"878bbdd8-f7ef-4cc3-846a-585cc3e754aa\")>,\n",
       " <selenium.webdriver.remote.webelement.WebElement (session=\"7d509e5d840ca2f4f59cdad007cd1ccc\", element=\"f1c1e5d3-fba0-4122-9833-34c9951569be\")>,\n",
       " <selenium.webdriver.remote.webelement.WebElement (session=\"7d509e5d840ca2f4f59cdad007cd1ccc\", element=\"68aec3d8-5671-4938-beb1-6b41086a3980\")>,\n",
       " <selenium.webdriver.remote.webelement.WebElement (session=\"7d509e5d840ca2f4f59cdad007cd1ccc\", element=\"d9138e1d-c054-4130-a400-cdf6b10482f3\")>,\n",
       " <selenium.webdriver.remote.webelement.WebElement (session=\"7d509e5d840ca2f4f59cdad007cd1ccc\", element=\"34894835-97a6-474c-a38f-a4dc51d75d6c\")>]"
      ]
     },
     "execution_count": 118,
     "metadata": {},
     "output_type": "execute_result"
    }
   ],
   "source": [
    "# 2nd we'll extract all the tags having the number salary\n",
    "number_salary_tags=driver.find_elements_by_xpath(\"//p[@class='css-1uyte9r css-1kuy7z7 m-0']\")\n",
    "number_salary_tags[0:10]"
   ]
  },
  {
   "cell_type": "code",
   "execution_count": 120,
   "metadata": {},
   "outputs": [
    {
     "data": {
      "text/plain": [
       "['12 salaries',\n",
       " '9 salaries',\n",
       " '7 salaries',\n",
       " '7 salaries',\n",
       " '7 salaries',\n",
       " '7 salaries',\n",
       " '6 salaries',\n",
       " '6 salaries',\n",
       " '6 salaries',\n",
       " '6 salaries']"
      ]
     },
     "execution_count": 120,
     "metadata": {},
     "output_type": "execute_result"
    }
   ],
   "source": [
    "# 10 text of the number salary are inside the tags which are extracted above\n",
    "# now we'll run a loop to iterate over the tags to extract the text inside the empty list\n",
    "\n",
    "for t in number_salary_tags:\n",
    "    nsalary=t.text\n",
    "    number_salaries.append(nsalary)\n",
    "number_salaries[0:10]"
   ]
  },
  {
   "cell_type": "code",
   "execution_count": 122,
   "metadata": {},
   "outputs": [
    {
     "data": {
      "text/plain": [
       "[<selenium.webdriver.remote.webelement.WebElement (session=\"7d509e5d840ca2f4f59cdad007cd1ccc\", element=\"3d118f52-cbd6-4a3a-88b6-aef25ed04a48\")>,\n",
       " <selenium.webdriver.remote.webelement.WebElement (session=\"7d509e5d840ca2f4f59cdad007cd1ccc\", element=\"fe353f4e-0fa4-4a0a-93d8-8f1b93aa413c\")>,\n",
       " <selenium.webdriver.remote.webelement.WebElement (session=\"7d509e5d840ca2f4f59cdad007cd1ccc\", element=\"9c115146-f901-439d-8c0c-d3eee3f7532f\")>,\n",
       " <selenium.webdriver.remote.webelement.WebElement (session=\"7d509e5d840ca2f4f59cdad007cd1ccc\", element=\"946e3edb-608f-4030-99ff-cd897edfd9a1\")>,\n",
       " <selenium.webdriver.remote.webelement.WebElement (session=\"7d509e5d840ca2f4f59cdad007cd1ccc\", element=\"8f24be65-02f4-4d1d-ae8a-2e34ae7bb7e5\")>,\n",
       " <selenium.webdriver.remote.webelement.WebElement (session=\"7d509e5d840ca2f4f59cdad007cd1ccc\", element=\"414d8321-e349-485a-a476-76930b60f64e\")>,\n",
       " <selenium.webdriver.remote.webelement.WebElement (session=\"7d509e5d840ca2f4f59cdad007cd1ccc\", element=\"3b77f284-62d5-4d91-aa99-40b17e51fa16\")>,\n",
       " <selenium.webdriver.remote.webelement.WebElement (session=\"7d509e5d840ca2f4f59cdad007cd1ccc\", element=\"92527269-2d38-4590-ba81-f3d9d155bbb6\")>,\n",
       " <selenium.webdriver.remote.webelement.WebElement (session=\"7d509e5d840ca2f4f59cdad007cd1ccc\", element=\"1be37ed9-252c-4c4a-bd50-76fe55f1e442\")>,\n",
       " <selenium.webdriver.remote.webelement.WebElement (session=\"7d509e5d840ca2f4f59cdad007cd1ccc\", element=\"34daee7f-e885-4169-b94f-4c4fd03f07fe\")>]"
      ]
     },
     "execution_count": 122,
     "metadata": {},
     "output_type": "execute_result"
    }
   ],
   "source": [
    "# 3rd we'll extract all the tags having the average salary\n",
    "average_tags=driver.find_elements_by_xpath(\"//div[@class='col-2 d-none d-md-flex flex-row justify-content-end']\")\n",
    "average_tags[0:10]"
   ]
  },
  {
   "cell_type": "code",
   "execution_count": 123,
   "metadata": {},
   "outputs": [
    {
     "data": {
      "text/plain": [
       "['₹ 12,83,026\\n/yr',\n",
       " '₹ 11,19,272\\n/yr',\n",
       " '₹ 7,52,445\\n/yr',\n",
       " '₹ 8,28,000\\n/yr',\n",
       " '₹ 13,21,601\\n/yr',\n",
       " '₹ 20,889\\n/mo',\n",
       " '₹ 6,33,432\\n/yr',\n",
       " '₹ 9,96,446\\n/yr',\n",
       " '₹ 7,71,320\\n/yr',\n",
       " '₹ 12,669\\n/mo']"
      ]
     },
     "execution_count": 123,
     "metadata": {},
     "output_type": "execute_result"
    }
   ],
   "source": [
    "# 10 text of the average salary are inside the tags which are extracted above\n",
    "# now we'll run a loop to iterate over the tags to extract the text inside the empty list\n",
    "\n",
    "for t in average_tags:\n",
    "    average=t.text\n",
    "    average_salary.append(average)\n",
    "average_salary[0:10]"
   ]
  },
  {
   "cell_type": "code",
   "execution_count": 131,
   "metadata": {},
   "outputs": [
    {
     "data": {
      "text/plain": [
       "[<selenium.webdriver.remote.webelement.WebElement (session=\"7d509e5d840ca2f4f59cdad007cd1ccc\", element=\"6fa9503c-f7c0-4a88-8acb-6e0e0928b186\")>,\n",
       " <selenium.webdriver.remote.webelement.WebElement (session=\"7d509e5d840ca2f4f59cdad007cd1ccc\", element=\"422b8cc1-8069-44e2-b287-25704f5d1342\")>,\n",
       " <selenium.webdriver.remote.webelement.WebElement (session=\"7d509e5d840ca2f4f59cdad007cd1ccc\", element=\"b9e2f566-a615-408d-99f4-bcffb526464d\")>,\n",
       " <selenium.webdriver.remote.webelement.WebElement (session=\"7d509e5d840ca2f4f59cdad007cd1ccc\", element=\"26bb30ea-ebdb-49a9-9eb5-126b412adf3f\")>,\n",
       " <selenium.webdriver.remote.webelement.WebElement (session=\"7d509e5d840ca2f4f59cdad007cd1ccc\", element=\"2e1999e3-0cc1-4831-a9f9-3cf59f0232aa\")>,\n",
       " <selenium.webdriver.remote.webelement.WebElement (session=\"7d509e5d840ca2f4f59cdad007cd1ccc\", element=\"393dad11-ab1d-4c0d-8cdf-64e941a949f9\")>,\n",
       " <selenium.webdriver.remote.webelement.WebElement (session=\"7d509e5d840ca2f4f59cdad007cd1ccc\", element=\"e96cc242-98e1-40fa-a8ba-5e66ac931325\")>,\n",
       " <selenium.webdriver.remote.webelement.WebElement (session=\"7d509e5d840ca2f4f59cdad007cd1ccc\", element=\"53ff6e5d-7c6d-4e8f-865f-07fa32358b44\")>,\n",
       " <selenium.webdriver.remote.webelement.WebElement (session=\"7d509e5d840ca2f4f59cdad007cd1ccc\", element=\"d731fc13-542f-443f-a5fb-86947e77678f\")>,\n",
       " <selenium.webdriver.remote.webelement.WebElement (session=\"7d509e5d840ca2f4f59cdad007cd1ccc\", element=\"633bd1ed-b0af-4e11-9622-ea0d02391de6\")>]"
      ]
     },
     "execution_count": 131,
     "metadata": {},
     "output_type": "execute_result"
    }
   ],
   "source": [
    "# 4th we'll extract all the tags having the minimum salary\n",
    "minimum_tags=driver.find_elements_by_xpath(\"//div[@class='col-3 offset-1 d-none d-md-block']\")\n",
    "minimum_tags[0:10]"
   ]
  },
  {
   "cell_type": "code",
   "execution_count": 132,
   "metadata": {},
   "outputs": [
    {
     "data": {
      "text/plain": [
       "['₹705K\\n₹11,495K',\n",
       " '₹571K\\n₹2,200K',\n",
       " '₹580K\\n₹2,700K',\n",
       " '₹468K\\n₹1,595K',\n",
       " '₹708K\\n₹1,557K',\n",
       " '₹14K\\n₹22K',\n",
       " '₹488K\\n₹1,000K',\n",
       " '₹784K\\n₹1,250K',\n",
       " '₹496K\\n₹1,138K',\n",
       " '₹8K\\n₹20K']"
      ]
     },
     "execution_count": 132,
     "metadata": {},
     "output_type": "execute_result"
    }
   ],
   "source": [
    "# 10 text of the minimum salary are inside the tags which are extracted above\n",
    "# now we'll run a loop to iterate over the tags to extract the text inside the empty list\n",
    "\n",
    "for t in minimum_tags:\n",
    "    minimum=t.text\n",
    "    min_salary.append(minimum)\n",
    "min_salary[0:10]"
   ]
  },
  {
   "cell_type": "raw",
   "metadata": {},
   "source": [
    "\"\"\"\n",
    "Minumum and maximum are scrapping together, How to seperate them?\n",
    "\"\"\""
   ]
  },
  {
   "cell_type": "code",
   "execution_count": null,
   "metadata": {},
   "outputs": [],
   "source": []
  },
  {
   "cell_type": "code",
   "execution_count": null,
   "metadata": {},
   "outputs": [],
   "source": []
  },
  {
   "cell_type": "code",
   "execution_count": null,
   "metadata": {},
   "outputs": [],
   "source": []
  },
  {
   "cell_type": "code",
   "execution_count": null,
   "metadata": {},
   "outputs": [],
   "source": []
  },
  {
   "cell_type": "code",
   "execution_count": null,
   "metadata": {},
   "outputs": [],
   "source": []
  }
 ],
 "metadata": {
  "kernelspec": {
   "display_name": "Python 3",
   "language": "python",
   "name": "python3"
  },
  "language_info": {
   "codemirror_mode": {
    "name": "ipython",
    "version": 3
   },
   "file_extension": ".py",
   "mimetype": "text/x-python",
   "name": "python",
   "nbconvert_exporter": "python",
   "pygments_lexer": "ipython3",
   "version": "3.8.3"
  }
 },
 "nbformat": 4,
 "nbformat_minor": 4
}
